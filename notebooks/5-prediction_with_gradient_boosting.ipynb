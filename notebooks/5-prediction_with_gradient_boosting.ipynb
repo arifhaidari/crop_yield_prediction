{
 "cells": [
  {
   "cell_type": "markdown",
   "metadata": {},
   "source": [
    "# Prediction with Gradient Boosting"
   ]
  },
  {
   "cell_type": "code",
   "execution_count": 7,
   "metadata": {},
   "outputs": [
    {
     "name": "stdout",
     "output_type": "stream",
     "text": [
      "Predicted Yield: [36836.4172741]\n"
     ]
    }
   ],
   "source": [
    "import joblib\n",
    "import pandas as pd\n",
    "from sklearn.preprocessing import OneHotEncoder\n",
    "from sklearn.compose import ColumnTransformer\n",
    "\n",
    "# Define categorical and numerical features\n",
    "categorical_features = ['Item', 'Area']\n",
    "numerical_features = ['Pesticides', 'avg_temp', 'avg_precipitation']\n",
    "\n",
    "# Load the saved model and preprocessor\n",
    "gb_loaded = joblib.load('../models/gradient_boosting_model.pkl')\n",
    "preprocessor = joblib.load('../models/preprocessor.pkl')  # Load the saved preprocessor\n",
    "\n",
    "# Function to preprocess and predict new data\n",
    "def predict_yield(new_data: pd.DataFrame):\n",
    "    # Ensure column order matches training\n",
    "    new_data = new_data[categorical_features + numerical_features]\n",
    "    \n",
    "    # Transform data using the pre-fitted preprocessor\n",
    "    X_new_transformed = preprocessor.transform(new_data)\n",
    "    \n",
    "    # Predict using the loaded model\n",
    "    predictions = gb_loaded.predict(X_new_transformed)\n",
    "    \n",
    "    return predictions\n",
    "\n",
    "# Example: Making predictions on new data\n",
    "new_data = pd.DataFrame({\n",
    "    'Item': ['Cassava'],\n",
    "    'Area': ['Angola'],\n",
    "    'Pesticides': [70],\n",
    "    'avg_temp': [24.1],\n",
    "    'avg_precipitation': [1010]\n",
    "})\n",
    "\n",
    "predicted_yield = predict_yield(new_data)\n",
    "print(\"Predicted Yield:\", predicted_yield)\n"
   ]
  },
  {
   "cell_type": "code",
   "execution_count": null,
   "metadata": {},
   "outputs": [],
   "source": []
  }
 ],
 "metadata": {
  "kernelspec": {
   "display_name": "env_ai",
   "language": "python",
   "name": "python3"
  },
  "language_info": {
   "codemirror_mode": {
    "name": "ipython",
    "version": 3
   },
   "file_extension": ".py",
   "mimetype": "text/x-python",
   "name": "python",
   "nbconvert_exporter": "python",
   "pygments_lexer": "ipython3",
   "version": "3.10.14"
  }
 },
 "nbformat": 4,
 "nbformat_minor": 2
}
